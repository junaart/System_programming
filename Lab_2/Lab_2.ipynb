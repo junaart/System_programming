{
 "cells": [
  {
   "cell_type": "markdown",
   "id": "58a40fcb-f5bc-48ec-8427-51865c3dac9e",
   "metadata": {},
   "source": [
    "# Лабораторная работа №2. Вывод символов на экран дисплея."
   ]
  },
  {
   "cell_type": "markdown",
   "id": "934e9748-6bb6-441a-89b8-3a49e1d87fe3",
   "metadata": {},
   "source": [
    "1. Разработать программу на языке ассемблера, которая выводит на экран заданную строку $S$ в обратном порядке. \n",
    "2. Разработать программу на языке ассемблера, в которой заполнить память $N$ заданными символами, вывести их в виде матрицы по $M$ символов в строке и $K$ строк\n",
    "3. В задании 2 вывести символы в виде треугольника. Например, для 21 символа \"8\":\n",
    "                            8\n",

    "                            88\n",

    "                            888\n",

    "                            8888\n",

    "                            88888\n",

    "                            888888\n",
    "4. Разработать программу на языке ассемблера, в которой для заданного числа $N$ найти сумму его цифр и вывести результат на экран.\n",
    "5. Разработать программу аналогичную заданию 4 на языке программирования C. Провести сравнение размеров исполняемых файлов. Постараться сократить размер исполняемого файла на языке ассемблера и на языке С.\n",
    "\n",
    "**Отчет оформить в jupyter notebook, вставляя в кодовые ячейки исходный код и дополняя его скриншотами экранных форм, подтверждающих его работоспособность.**\n"
   ]
  },
  {
   "cell_type": "code",
   "execution_count": 100,
   "id": "1ccaacb8-65c3-4a23-b4a1-2590f271ec41",
   "metadata": {},
   "outputs": [
    {
     "data": {
      "text/html": [
       "<div>\n",
       "<style scoped>\n",
       "    .dataframe tbody tr th:only-of-type {\n",
       "        vertical-align: middle;\n",
       "    }\n",
       "\n",
       "    .dataframe tbody tr th {\n",
       "        vertical-align: top;\n",
       "    }\n",
       "\n",
       "    .dataframe thead th {\n",
       "        text-align: right;\n",
       "    }\n",
       "</style>\n",
       "<table border=\"1\" class=\"dataframe\">\n",
       "  <thead>\n",
       "    <tr style=\"text-align: right;\">\n",
       "      <th></th>\n",
       "      <th>Задание</th>\n",
       "      <th>Параметры</th>\n",
       "    </tr>\n",
       "  </thead>\n",
       "  <tbody>\n",
       "    <tr>\n",
       "      <th>0</th>\n",
       "      <td>1</td>\n",
       "      <td>S=AMVtdiYVETHnNhuYwnWDVBqL</td>\n",
       "    </tr>\n",
       "    <tr>\n",
       "      <th>1</th>\n",
       "      <td>2</td>\n",
       "      <td>[+, N=66, M =6, K = 11]</td>\n",
       "    </tr>\n",
       "    <tr>\n",
       "      <th>2</th>\n",
       "      <td>3</td>\n",
       "      <td>-</td>\n",
       "    </tr>\n",
       "    <tr>\n",
       "      <th>3</th>\n",
       "      <td>4</td>\n",
       "      <td>N=5277616985</td>\n",
       "    </tr>\n",
       "    <tr>\n",
       "      <th>4</th>\n",
       "      <td>5</td>\n",
       "      <td>-</td>\n",
       "    </tr>\n",
       "  </tbody>\n",
       "</table>\n",
       "</div>"
      ],
      "text/plain": [
       "   Задание                   Параметры\n",
       "0        1  S=AMVtdiYVETHnNhuYwnWDVBqL\n",
       "1        2     [+, N=66, M =6, K = 11]\n",
       "2        3                           -\n",
       "3        4                N=5277616985\n",
       "4        5                           -"
      ]
     },
     "execution_count": 100,
     "metadata": {},
     "output_type": "execute_result"
    }
   ],
   "source": [
    "import random as rd\n",
    "import pandas as pd\n",
    "import math\n",
    "\n",
    "Variant = 1\n",
    "rd.seed(Variant)\n",
    "Str1 = 'qwertyuioplkjhgfdsazxcvbnmQWERTYUIOPASDFGHJKLZXCVBNM'\n",
    "N = rd.randint(20,40)\n",
    "s1 = ''\n",
    "for i in range(N):\n",
    "    s1 += Str1[rd.randint(0, len(Str1)-1)]\n",
    "D = '!@#$%&*+:;|'[rd.randint(0,10)]\n",
    "N1 = rd.randint(3,30)\n",
    "N2 = int(N1 * (N1 + 1) / 2)\n",
    "if (int(N2/N1) - math.floor(N2/N1)) == 0:\n",
    "    M = int(N2 / N1)\n",
    "    K = int(N2 / M)\n",
    "else:\n",
    "    M = int(N2 / (N1 + 1))\n",
    "    K = int(N2 / M)\n",
    "N4 = rd.randint(123432, 5645634534)\n",
    "Data  = pd.DataFrame({'Задание':[1,2,3,4,5],'Параметры':['S='+s1,[D, 'N='+str(N2), \n",
    "                    'M ='+str(M), 'K = '+str(K)],'-','N='+str(N4),'-']})\n",
    "Data"
   ]
  },
  {
   "cell_type": "code",
   "execution_count": null,
   "id": "9b14b6e2-a29e-4a71-893b-6c140d2c24a0",
   "metadata": {},
   "outputs": [],
   "source": []
  }
 ],
 "metadata": {
  "kernelspec": {
   "display_name": "Python 3 (ipykernel)",
   "language": "python",
   "name": "python3"
  },
  "language_info": {
   "codemirror_mode": {
    "name": "ipython",
    "version": 3
   },
   "file_extension": ".py",
   "mimetype": "text/x-python",
   "name": "python",
   "nbconvert_exporter": "python",
   "pygments_lexer": "ipython3",
   "version": "3.8.10"
  }
 },
 "nbformat": 4,
 "nbformat_minor": 5
}
