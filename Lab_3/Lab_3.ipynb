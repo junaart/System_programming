{
 "cells": [
  {
   "cell_type": "markdown",
   "id": "f65984ee-3aa8-41da-861b-1975b2576bb4",
   "metadata": {},
   "source": [
    "# Лабораторная работа №3. Арифметические вычисления."
   ]
  },
  {
   "cell_type": "markdown",
   "id": "f65d3414-0c55-4cc9-b0dc-025486dd230e",
   "metadata": {},
   "source": [
    "1. На языке ассемблера реализовать программу, которая по введенному символу печатает его ASCII-код. Символ передавать в исполняемую программу как параметр командной строки.\n",
    "2. Разработать программу на языке ассемблера, в которой в соответствии с вариантом выполнить расчет значения арифметического выражения и вывести результат на экран, операторы для арифметического выражения $a,b,c$ передаются исполняемой программе как параметры командной строки.\n",
    "3. На языке программирования С составить аналогичную п.2 программу, сверить полученные результаты. "
   ]
  },
  {
   "cell_type": "code",
   "execution_count": 34,
   "id": "5d33aa9c-b719-463c-9fdc-31fcff27e1b0",
   "metadata": {},
   "outputs": [
    {
     "data": {
      "text/plain": [
       "'(((c-b)-b)/b)'"
      ]
     },
     "execution_count": 34,
     "metadata": {},
     "output_type": "execute_result"
    }
   ],
   "source": [
    "import random as rd\n",
    "import pandas as pd\n",
    "import math\n",
    "\n",
    "Variant = 1\n",
    "rd.seed(Variant)\n",
    "\n",
    "set_operations = ['-','+','*','/']\n",
    "set_operands = ['a', 'b', 'c']\n",
    "count_operations = rd.randint(3,5)\n",
    "\n",
    "expression = set_operands[rd.randint(0,len(set_operands)-1)]\n",
    "for i in range(count_operations):\n",
    "    current_operation = set_operations[rd.randint(0,len(set_operations)-1)]\n",
    "    current_operand = set_operands[rd.randint(0,len(set_operand)-1)]\n",
    "    expression = \"(\" + expression + current_operation + current_operand + \")\"\n",
    "expression"
   ]
  },
  {
   "cell_type": "code",
   "execution_count": null,
   "id": "3a841e1f-7def-476f-b894-2dbcb0b1ffed",
   "metadata": {},
   "outputs": [],
   "source": []
  }
 ],
 "metadata": {
  "kernelspec": {
   "display_name": "Python 3 (ipykernel)",
   "language": "python",
   "name": "python3"
  },
  "language_info": {
   "codemirror_mode": {
    "name": "ipython",
    "version": 3
   },
   "file_extension": ".py",
   "mimetype": "text/x-python",
   "name": "python",
   "nbconvert_exporter": "python",
   "pygments_lexer": "ipython3",
   "version": "3.8.10"
  }
 },
 "nbformat": 4,
 "nbformat_minor": 5
}
